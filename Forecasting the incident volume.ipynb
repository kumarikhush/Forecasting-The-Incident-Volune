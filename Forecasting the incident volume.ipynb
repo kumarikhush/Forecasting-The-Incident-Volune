{
 "cells": [
  {
   "cell_type": "code",
   "execution_count": 27,
   "id": "4d67ac2a",
   "metadata": {},
   "outputs": [],
   "source": [
    "#Import important libaries\n",
    "import matplotlib.pyplot as plt\n",
    "import pandas as pd\n",
    "import numpy as np\n",
    "import seaborn as sns\n",
    "import warnings\n",
    "warnings.filterwarnings('always')\n",
    "warnings.filterwarnings('ignore')\n",
    "warnings.simplefilter('always')\n",
    "warnings.simplefilter('ignore')"
   ]
  },
  {
   "cell_type": "markdown",
   "id": "0297c9b3",
   "metadata": {},
   "source": [
    "# Data Inspection"
   ]
  },
  {
   "cell_type": "code",
   "execution_count": 2,
   "id": "7976e151",
   "metadata": {},
   "outputs": [],
   "source": [
    "df= pd.read_csv(\"C:\\\\Users\\\\khush\\\\OneDrive\\\\Documents\\\\Data Science\\\\test.csv\")"
   ]
  },
  {
   "cell_type": "code",
   "execution_count": 3,
   "id": "cdc33552",
   "metadata": {},
   "outputs": [
    {
     "data": {
      "text/plain": [
       "(42514, 25)"
      ]
     },
     "execution_count": 3,
     "metadata": {},
     "output_type": "execute_result"
    }
   ],
   "source": [
    "df.shape"
   ]
  },
  {
   "cell_type": "code",
   "execution_count": 4,
   "id": "b924e621",
   "metadata": {},
   "outputs": [
    {
     "data": {
      "text/html": [
       "<div>\n",
       "<style scoped>\n",
       "    .dataframe tbody tr th:only-of-type {\n",
       "        vertical-align: middle;\n",
       "    }\n",
       "\n",
       "    .dataframe tbody tr th {\n",
       "        vertical-align: top;\n",
       "    }\n",
       "\n",
       "    .dataframe thead th {\n",
       "        text-align: right;\n",
       "    }\n",
       "</style>\n",
       "<table border=\"1\" class=\"dataframe\">\n",
       "  <thead>\n",
       "    <tr style=\"text-align: right;\">\n",
       "      <th></th>\n",
       "      <th>S.No</th>\n",
       "      <th>ID</th>\n",
       "      <th>ID_status</th>\n",
       "      <th>active</th>\n",
       "      <th>count_reassign</th>\n",
       "      <th>count_opening</th>\n",
       "      <th>count_updated</th>\n",
       "      <th>ID_caller</th>\n",
       "      <th>opened_by</th>\n",
       "      <th>opened_time</th>\n",
       "      <th>...</th>\n",
       "      <th>location</th>\n",
       "      <th>category_ID</th>\n",
       "      <th>user_symptom</th>\n",
       "      <th>Support_group</th>\n",
       "      <th>support_incharge</th>\n",
       "      <th>Doc_knowledge</th>\n",
       "      <th>confirmation_check</th>\n",
       "      <th>notify</th>\n",
       "      <th>problem_ID</th>\n",
       "      <th>change_request</th>\n",
       "    </tr>\n",
       "  </thead>\n",
       "  <tbody>\n",
       "    <tr>\n",
       "      <th>0</th>\n",
       "      <td>1</td>\n",
       "      <td>INC0000045</td>\n",
       "      <td>Resolved</td>\n",
       "      <td>True</td>\n",
       "      <td>0</td>\n",
       "      <td>0</td>\n",
       "      <td>2</td>\n",
       "      <td>Caller 2403</td>\n",
       "      <td>Opened by  8</td>\n",
       "      <td>29-02-2016 01:16</td>\n",
       "      <td>...</td>\n",
       "      <td>Location 143</td>\n",
       "      <td>Category 55</td>\n",
       "      <td>Symptom 72</td>\n",
       "      <td>Group 56</td>\n",
       "      <td>?</td>\n",
       "      <td>True</td>\n",
       "      <td>False</td>\n",
       "      <td>Do Not Notify</td>\n",
       "      <td>?</td>\n",
       "      <td>?</td>\n",
       "    </tr>\n",
       "    <tr>\n",
       "      <th>1</th>\n",
       "      <td>2</td>\n",
       "      <td>INC0000047</td>\n",
       "      <td>New</td>\n",
       "      <td>True</td>\n",
       "      <td>0</td>\n",
       "      <td>0</td>\n",
       "      <td>0</td>\n",
       "      <td>Caller 2403</td>\n",
       "      <td>Opened by  397</td>\n",
       "      <td>29-02-2016 04:40</td>\n",
       "      <td>...</td>\n",
       "      <td>Location 165</td>\n",
       "      <td>Category 40</td>\n",
       "      <td>Symptom 471</td>\n",
       "      <td>Group 70</td>\n",
       "      <td>Resolver 89</td>\n",
       "      <td>True</td>\n",
       "      <td>False</td>\n",
       "      <td>Do Not Notify</td>\n",
       "      <td>?</td>\n",
       "      <td>?</td>\n",
       "    </tr>\n",
       "    <tr>\n",
       "      <th>2</th>\n",
       "      <td>3</td>\n",
       "      <td>INC0000047</td>\n",
       "      <td>Active</td>\n",
       "      <td>True</td>\n",
       "      <td>1</td>\n",
       "      <td>0</td>\n",
       "      <td>3</td>\n",
       "      <td>Caller 2403</td>\n",
       "      <td>Opened by  397</td>\n",
       "      <td>29-02-2016 04:40</td>\n",
       "      <td>...</td>\n",
       "      <td>Location 165</td>\n",
       "      <td>Category 40</td>\n",
       "      <td>Symptom 471</td>\n",
       "      <td>Group 24</td>\n",
       "      <td>Resolver 31</td>\n",
       "      <td>True</td>\n",
       "      <td>False</td>\n",
       "      <td>Do Not Notify</td>\n",
       "      <td>?</td>\n",
       "      <td>?</td>\n",
       "    </tr>\n",
       "    <tr>\n",
       "      <th>3</th>\n",
       "      <td>4</td>\n",
       "      <td>INC0000047</td>\n",
       "      <td>Resolved</td>\n",
       "      <td>True</td>\n",
       "      <td>1</td>\n",
       "      <td>0</td>\n",
       "      <td>7</td>\n",
       "      <td>Caller 2403</td>\n",
       "      <td>Opened by  397</td>\n",
       "      <td>29-02-2016 04:40</td>\n",
       "      <td>...</td>\n",
       "      <td>Location 165</td>\n",
       "      <td>Category 40</td>\n",
       "      <td>Symptom 471</td>\n",
       "      <td>Group 24</td>\n",
       "      <td>Resolver 89</td>\n",
       "      <td>True</td>\n",
       "      <td>False</td>\n",
       "      <td>Do Not Notify</td>\n",
       "      <td>?</td>\n",
       "      <td>?</td>\n",
       "    </tr>\n",
       "    <tr>\n",
       "      <th>4</th>\n",
       "      <td>5</td>\n",
       "      <td>INC0000057</td>\n",
       "      <td>New</td>\n",
       "      <td>True</td>\n",
       "      <td>0</td>\n",
       "      <td>0</td>\n",
       "      <td>4</td>\n",
       "      <td>Caller 4416</td>\n",
       "      <td>Opened by  8</td>\n",
       "      <td>29-02-2016 06:10</td>\n",
       "      <td>...</td>\n",
       "      <td>Location 204</td>\n",
       "      <td>Category 20</td>\n",
       "      <td>Symptom 471</td>\n",
       "      <td>Group 70</td>\n",
       "      <td>?</td>\n",
       "      <td>True</td>\n",
       "      <td>False</td>\n",
       "      <td>Do Not Notify</td>\n",
       "      <td>Problem ID  2</td>\n",
       "      <td>?</td>\n",
       "    </tr>\n",
       "  </tbody>\n",
       "</table>\n",
       "<p>5 rows × 25 columns</p>\n",
       "</div>"
      ],
      "text/plain": [
       "   S.No          ID ID_status  active  count_reassign  count_opening  \\\n",
       "0     1  INC0000045  Resolved    True               0              0   \n",
       "1     2  INC0000047       New    True               0              0   \n",
       "2     3  INC0000047    Active    True               1              0   \n",
       "3     4  INC0000047  Resolved    True               1              0   \n",
       "4     5  INC0000057       New    True               0              0   \n",
       "\n",
       "   count_updated    ID_caller       opened_by       opened_time  ...  \\\n",
       "0              2  Caller 2403    Opened by  8  29-02-2016 01:16  ...   \n",
       "1              0  Caller 2403  Opened by  397  29-02-2016 04:40  ...   \n",
       "2              3  Caller 2403  Opened by  397  29-02-2016 04:40  ...   \n",
       "3              7  Caller 2403  Opened by  397  29-02-2016 04:40  ...   \n",
       "4              4  Caller 4416    Opened by  8  29-02-2016 06:10  ...   \n",
       "\n",
       "       location  category_ID user_symptom Support_group support_incharge  \\\n",
       "0  Location 143  Category 55   Symptom 72      Group 56                ?   \n",
       "1  Location 165  Category 40  Symptom 471      Group 70      Resolver 89   \n",
       "2  Location 165  Category 40  Symptom 471      Group 24      Resolver 31   \n",
       "3  Location 165  Category 40  Symptom 471      Group 24      Resolver 89   \n",
       "4  Location 204  Category 20  Symptom 471      Group 70                ?   \n",
       "\n",
       "  Doc_knowledge confirmation_check         notify     problem_ID  \\\n",
       "0          True              False  Do Not Notify              ?   \n",
       "1          True              False  Do Not Notify              ?   \n",
       "2          True              False  Do Not Notify              ?   \n",
       "3          True              False  Do Not Notify              ?   \n",
       "4          True              False  Do Not Notify  Problem ID  2   \n",
       "\n",
       "  change_request  \n",
       "0              ?  \n",
       "1              ?  \n",
       "2              ?  \n",
       "3              ?  \n",
       "4              ?  \n",
       "\n",
       "[5 rows x 25 columns]"
      ]
     },
     "execution_count": 4,
     "metadata": {},
     "output_type": "execute_result"
    }
   ],
   "source": [
    "df.head()"
   ]
  },
  {
   "cell_type": "code",
   "execution_count": 5,
   "id": "fb4f912c",
   "metadata": {},
   "outputs": [
    {
     "data": {
      "text/plain": [
       "Index(['S.No', 'ID', 'ID_status', 'active', 'count_reassign', 'count_opening',\n",
       "       'count_updated', 'ID_caller', 'opened_by', 'opened_time', 'Created_by',\n",
       "       'created_at', 'updated_by', 'updated_at', 'type_contact', 'location',\n",
       "       'category_ID', 'user_symptom', 'Support_group', 'support_incharge',\n",
       "       'Doc_knowledge', 'confirmation_check', 'notify', 'problem_ID',\n",
       "       'change_request'],\n",
       "      dtype='object')"
      ]
     },
     "execution_count": 5,
     "metadata": {},
     "output_type": "execute_result"
    }
   ],
   "source": [
    "df.columns"
   ]
  },
  {
   "cell_type": "code",
   "execution_count": 6,
   "id": "30b59b8c",
   "metadata": {},
   "outputs": [
    {
     "name": "stdout",
     "output_type": "stream",
     "text": [
      "<class 'pandas.core.frame.DataFrame'>\n",
      "RangeIndex: 42514 entries, 0 to 42513\n",
      "Data columns (total 25 columns):\n",
      " #   Column              Non-Null Count  Dtype \n",
      "---  ------              --------------  ----- \n",
      " 0   S.No                42514 non-null  int64 \n",
      " 1   ID                  42514 non-null  object\n",
      " 2   ID_status           42514 non-null  object\n",
      " 3   active              42514 non-null  bool  \n",
      " 4   count_reassign      42514 non-null  int64 \n",
      " 5   count_opening       42514 non-null  int64 \n",
      " 6   count_updated       42514 non-null  int64 \n",
      " 7   ID_caller           42514 non-null  object\n",
      " 8   opened_by           42514 non-null  object\n",
      " 9   opened_time         42514 non-null  object\n",
      " 10  Created_by          42514 non-null  object\n",
      " 11  created_at          42514 non-null  object\n",
      " 12  updated_by          42514 non-null  object\n",
      " 13  updated_at          42514 non-null  object\n",
      " 14  type_contact        42514 non-null  object\n",
      " 15  location            42514 non-null  object\n",
      " 16  category_ID         42514 non-null  object\n",
      " 17  user_symptom        42514 non-null  object\n",
      " 18  Support_group       42514 non-null  object\n",
      " 19  support_incharge    42514 non-null  object\n",
      " 20  Doc_knowledge       42514 non-null  bool  \n",
      " 21  confirmation_check  42514 non-null  bool  \n",
      " 22  notify              42514 non-null  object\n",
      " 23  problem_ID          42514 non-null  object\n",
      " 24  change_request      42514 non-null  object\n",
      "dtypes: bool(3), int64(4), object(18)\n",
      "memory usage: 7.3+ MB\n"
     ]
    }
   ],
   "source": [
    "df.info()"
   ]
  },
  {
   "cell_type": "code",
   "execution_count": 7,
   "id": "e1cd5803",
   "metadata": {},
   "outputs": [
    {
     "data": {
      "text/plain": [
       "S.No                  0.0\n",
       "ID                    0.0\n",
       "ID_status             0.0\n",
       "active                0.0\n",
       "count_reassign        0.0\n",
       "count_opening         0.0\n",
       "count_updated         0.0\n",
       "ID_caller             0.0\n",
       "opened_by             0.0\n",
       "opened_time           0.0\n",
       "Created_by            0.0\n",
       "created_at            0.0\n",
       "updated_by            0.0\n",
       "updated_at            0.0\n",
       "type_contact          0.0\n",
       "location              0.0\n",
       "category_ID           0.0\n",
       "user_symptom          0.0\n",
       "Support_group         0.0\n",
       "support_incharge      0.0\n",
       "Doc_knowledge         0.0\n",
       "confirmation_check    0.0\n",
       "notify                0.0\n",
       "problem_ID            0.0\n",
       "change_request        0.0\n",
       "dtype: float64"
      ]
     },
     "execution_count": 7,
     "metadata": {},
     "output_type": "execute_result"
    }
   ],
   "source": [
    "df.isnull().sum()/df.shape[0] *100"
   ]
  },
  {
   "cell_type": "code",
   "execution_count": 8,
   "id": "4c68793f",
   "metadata": {},
   "outputs": [
    {
     "data": {
      "text/html": [
       "<div>\n",
       "<style scoped>\n",
       "    .dataframe tbody tr th:only-of-type {\n",
       "        vertical-align: middle;\n",
       "    }\n",
       "\n",
       "    .dataframe tbody tr th {\n",
       "        vertical-align: top;\n",
       "    }\n",
       "\n",
       "    .dataframe thead th {\n",
       "        text-align: right;\n",
       "    }\n",
       "</style>\n",
       "<table border=\"1\" class=\"dataframe\">\n",
       "  <thead>\n",
       "    <tr style=\"text-align: right;\">\n",
       "      <th></th>\n",
       "      <th>S.No</th>\n",
       "      <th>count_reassign</th>\n",
       "      <th>count_opening</th>\n",
       "      <th>count_updated</th>\n",
       "    </tr>\n",
       "  </thead>\n",
       "  <tbody>\n",
       "    <tr>\n",
       "      <th>count</th>\n",
       "      <td>42514.000000</td>\n",
       "      <td>42514.000000</td>\n",
       "      <td>42514.000000</td>\n",
       "      <td>42514.000000</td>\n",
       "    </tr>\n",
       "    <tr>\n",
       "      <th>mean</th>\n",
       "      <td>21257.500000</td>\n",
       "      <td>1.089665</td>\n",
       "      <td>0.021052</td>\n",
       "      <td>5.043821</td>\n",
       "    </tr>\n",
       "    <tr>\n",
       "      <th>std</th>\n",
       "      <td>12272.879009</td>\n",
       "      <td>1.694482</td>\n",
       "      <td>0.196897</td>\n",
       "      <td>7.520463</td>\n",
       "    </tr>\n",
       "    <tr>\n",
       "      <th>min</th>\n",
       "      <td>1.000000</td>\n",
       "      <td>0.000000</td>\n",
       "      <td>0.000000</td>\n",
       "      <td>0.000000</td>\n",
       "    </tr>\n",
       "    <tr>\n",
       "      <th>25%</th>\n",
       "      <td>10629.250000</td>\n",
       "      <td>0.000000</td>\n",
       "      <td>0.000000</td>\n",
       "      <td>1.000000</td>\n",
       "    </tr>\n",
       "    <tr>\n",
       "      <th>50%</th>\n",
       "      <td>21257.500000</td>\n",
       "      <td>1.000000</td>\n",
       "      <td>0.000000</td>\n",
       "      <td>3.000000</td>\n",
       "    </tr>\n",
       "    <tr>\n",
       "      <th>75%</th>\n",
       "      <td>31885.750000</td>\n",
       "      <td>1.000000</td>\n",
       "      <td>0.000000</td>\n",
       "      <td>6.000000</td>\n",
       "    </tr>\n",
       "    <tr>\n",
       "      <th>max</th>\n",
       "      <td>42514.000000</td>\n",
       "      <td>27.000000</td>\n",
       "      <td>8.000000</td>\n",
       "      <td>129.000000</td>\n",
       "    </tr>\n",
       "  </tbody>\n",
       "</table>\n",
       "</div>"
      ],
      "text/plain": [
       "               S.No  count_reassign  count_opening  count_updated\n",
       "count  42514.000000    42514.000000   42514.000000   42514.000000\n",
       "mean   21257.500000        1.089665       0.021052       5.043821\n",
       "std    12272.879009        1.694482       0.196897       7.520463\n",
       "min        1.000000        0.000000       0.000000       0.000000\n",
       "25%    10629.250000        0.000000       0.000000       1.000000\n",
       "50%    21257.500000        1.000000       0.000000       3.000000\n",
       "75%    31885.750000        1.000000       0.000000       6.000000\n",
       "max    42514.000000       27.000000       8.000000     129.000000"
      ]
     },
     "execution_count": 8,
     "metadata": {},
     "output_type": "execute_result"
    }
   ],
   "source": [
    "df.describe()"
   ]
  },
  {
   "cell_type": "code",
   "execution_count": 9,
   "id": "77d7680b",
   "metadata": {},
   "outputs": [
    {
     "data": {
      "image/png": "[encoded data removed]",
      "text/plain": [
       "<Figure size 576x432 with 1 Axes>"
      ]
     },
     "metadata": {
      "needs_background": "light"
     },
     "output_type": "display_data"
    }
   ],
   "source": [
    "# explore data for incident status\n",
    "plt.figure(figsize=(8,6))\n",
    "df.ID_status.value_counts().plot(kind='bar',alpha=.5)\n",
    "plt.show()"
   ]
  },
  {
   "cell_type": "code",
   "execution_count": 10,
   "id": "3e3d91e6",
   "metadata": {},
   "outputs": [],
   "source": [
    "#Remove unwanted columns\n",
    "df.drop(['S.No', 'created_at', 'updated_at'], axis=1, inplace=True)"
   ]
  },
  {
   "cell_type": "code",
   "execution_count": 11,
   "id": "56e6c78e",
   "metadata": {},
   "outputs": [],
   "source": [
    "#Eliminate the NAN\n",
    "for col in df.columns:\n",
    "   df.loc[df[col] == '?', col] = 0\n"
   ]
  },
  {
   "cell_type": "code",
   "execution_count": 12,
   "id": "fe95ec22",
   "metadata": {},
   "outputs": [
    {
     "data": {
      "text/html": [
       "<div>\n",
       "<style scoped>\n",
       "    .dataframe tbody tr th:only-of-type {\n",
       "        vertical-align: middle;\n",
       "    }\n",
       "\n",
       "    .dataframe tbody tr th {\n",
       "        vertical-align: top;\n",
       "    }\n",
       "\n",
       "    .dataframe thead th {\n",
       "        text-align: right;\n",
       "    }\n",
       "</style>\n",
       "<table border=\"1\" class=\"dataframe\">\n",
       "  <thead>\n",
       "    <tr style=\"text-align: right;\">\n",
       "      <th></th>\n",
       "      <th>ID</th>\n",
       "      <th>ID_status</th>\n",
       "      <th>active</th>\n",
       "      <th>count_reassign</th>\n",
       "      <th>count_opening</th>\n",
       "      <th>count_updated</th>\n",
       "      <th>ID_caller</th>\n",
       "      <th>opened_by</th>\n",
       "      <th>opened_time</th>\n",
       "      <th>Created_by</th>\n",
       "      <th>...</th>\n",
       "      <th>location</th>\n",
       "      <th>category_ID</th>\n",
       "      <th>user_symptom</th>\n",
       "      <th>Support_group</th>\n",
       "      <th>support_incharge</th>\n",
       "      <th>Doc_knowledge</th>\n",
       "      <th>confirmation_check</th>\n",
       "      <th>notify</th>\n",
       "      <th>problem_ID</th>\n",
       "      <th>change_request</th>\n",
       "    </tr>\n",
       "  </thead>\n",
       "  <tbody>\n",
       "    <tr>\n",
       "      <th>0</th>\n",
       "      <td>INC0000045</td>\n",
       "      <td>Resolved</td>\n",
       "      <td>True</td>\n",
       "      <td>0</td>\n",
       "      <td>0</td>\n",
       "      <td>2</td>\n",
       "      <td>Caller 2403</td>\n",
       "      <td>Opened by  8</td>\n",
       "      <td>29-02-2016 01:16</td>\n",
       "      <td>Created by 6</td>\n",
       "      <td>...</td>\n",
       "      <td>Location 143</td>\n",
       "      <td>Category 55</td>\n",
       "      <td>Symptom 72</td>\n",
       "      <td>Group 56</td>\n",
       "      <td>0</td>\n",
       "      <td>True</td>\n",
       "      <td>False</td>\n",
       "      <td>Do Not Notify</td>\n",
       "      <td>0</td>\n",
       "      <td>0</td>\n",
       "    </tr>\n",
       "    <tr>\n",
       "      <th>1</th>\n",
       "      <td>INC0000047</td>\n",
       "      <td>New</td>\n",
       "      <td>True</td>\n",
       "      <td>0</td>\n",
       "      <td>0</td>\n",
       "      <td>0</td>\n",
       "      <td>Caller 2403</td>\n",
       "      <td>Opened by  397</td>\n",
       "      <td>29-02-2016 04:40</td>\n",
       "      <td>Created by 171</td>\n",
       "      <td>...</td>\n",
       "      <td>Location 165</td>\n",
       "      <td>Category 40</td>\n",
       "      <td>Symptom 471</td>\n",
       "      <td>Group 70</td>\n",
       "      <td>Resolver 89</td>\n",
       "      <td>True</td>\n",
       "      <td>False</td>\n",
       "      <td>Do Not Notify</td>\n",
       "      <td>0</td>\n",
       "      <td>0</td>\n",
       "    </tr>\n",
       "    <tr>\n",
       "      <th>2</th>\n",
       "      <td>INC0000047</td>\n",
       "      <td>Active</td>\n",
       "      <td>True</td>\n",
       "      <td>1</td>\n",
       "      <td>0</td>\n",
       "      <td>3</td>\n",
       "      <td>Caller 2403</td>\n",
       "      <td>Opened by  397</td>\n",
       "      <td>29-02-2016 04:40</td>\n",
       "      <td>Created by 171</td>\n",
       "      <td>...</td>\n",
       "      <td>Location 165</td>\n",
       "      <td>Category 40</td>\n",
       "      <td>Symptom 471</td>\n",
       "      <td>Group 24</td>\n",
       "      <td>Resolver 31</td>\n",
       "      <td>True</td>\n",
       "      <td>False</td>\n",
       "      <td>Do Not Notify</td>\n",
       "      <td>0</td>\n",
       "      <td>0</td>\n",
       "    </tr>\n",
       "    <tr>\n",
       "      <th>3</th>\n",
       "      <td>INC0000047</td>\n",
       "      <td>Resolved</td>\n",
       "      <td>True</td>\n",
       "      <td>1</td>\n",
       "      <td>0</td>\n",
       "      <td>7</td>\n",
       "      <td>Caller 2403</td>\n",
       "      <td>Opened by  397</td>\n",
       "      <td>29-02-2016 04:40</td>\n",
       "      <td>Created by 171</td>\n",
       "      <td>...</td>\n",
       "      <td>Location 165</td>\n",
       "      <td>Category 40</td>\n",
       "      <td>Symptom 471</td>\n",
       "      <td>Group 24</td>\n",
       "      <td>Resolver 89</td>\n",
       "      <td>True</td>\n",
       "      <td>False</td>\n",
       "      <td>Do Not Notify</td>\n",
       "      <td>0</td>\n",
       "      <td>0</td>\n",
       "    </tr>\n",
       "    <tr>\n",
       "      <th>4</th>\n",
       "      <td>INC0000057</td>\n",
       "      <td>New</td>\n",
       "      <td>True</td>\n",
       "      <td>0</td>\n",
       "      <td>0</td>\n",
       "      <td>4</td>\n",
       "      <td>Caller 4416</td>\n",
       "      <td>Opened by  8</td>\n",
       "      <td>29-02-2016 06:10</td>\n",
       "      <td>0</td>\n",
       "      <td>...</td>\n",
       "      <td>Location 204</td>\n",
       "      <td>Category 20</td>\n",
       "      <td>Symptom 471</td>\n",
       "      <td>Group 70</td>\n",
       "      <td>0</td>\n",
       "      <td>True</td>\n",
       "      <td>False</td>\n",
       "      <td>Do Not Notify</td>\n",
       "      <td>Problem ID  2</td>\n",
       "      <td>0</td>\n",
       "    </tr>\n",
       "  </tbody>\n",
       "</table>\n",
       "<p>5 rows × 22 columns</p>\n",
       "</div>"
      ],
      "text/plain": [
       "           ID ID_status active  count_reassign  count_opening  count_updated  \\\n",
       "0  INC0000045  Resolved   True               0              0              2   \n",
       "1  INC0000047       New   True               0              0              0   \n",
       "2  INC0000047    Active   True               1              0              3   \n",
       "3  INC0000047  Resolved   True               1              0              7   \n",
       "4  INC0000057       New   True               0              0              4   \n",
       "\n",
       "     ID_caller       opened_by       opened_time      Created_by  ...  \\\n",
       "0  Caller 2403    Opened by  8  29-02-2016 01:16    Created by 6  ...   \n",
       "1  Caller 2403  Opened by  397  29-02-2016 04:40  Created by 171  ...   \n",
       "2  Caller 2403  Opened by  397  29-02-2016 04:40  Created by 171  ...   \n",
       "3  Caller 2403  Opened by  397  29-02-2016 04:40  Created by 171  ...   \n",
       "4  Caller 4416    Opened by  8  29-02-2016 06:10               0  ...   \n",
       "\n",
       "       location  category_ID user_symptom Support_group support_incharge  \\\n",
       "0  Location 143  Category 55   Symptom 72      Group 56                0   \n",
       "1  Location 165  Category 40  Symptom 471      Group 70      Resolver 89   \n",
       "2  Location 165  Category 40  Symptom 471      Group 24      Resolver 31   \n",
       "3  Location 165  Category 40  Symptom 471      Group 24      Resolver 89   \n",
       "4  Location 204  Category 20  Symptom 471      Group 70                0   \n",
       "\n",
       "  Doc_knowledge confirmation_check         notify     problem_ID  \\\n",
       "0          True              False  Do Not Notify              0   \n",
       "1          True              False  Do Not Notify              0   \n",
       "2          True              False  Do Not Notify              0   \n",
       "3          True              False  Do Not Notify              0   \n",
       "4          True              False  Do Not Notify  Problem ID  2   \n",
       "\n",
       "  change_request  \n",
       "0              0  \n",
       "1              0  \n",
       "2              0  \n",
       "3              0  \n",
       "4              0  \n",
       "\n",
       "[5 rows x 22 columns]"
      ]
     },
     "execution_count": 12,
     "metadata": {},
     "output_type": "execute_result"
    }
   ],
   "source": [
    "df.head()"
   ]
  },
  {
   "cell_type": "markdown",
   "id": "223b3d3e",
   "metadata": {},
   "source": [
    "# Forecasting the Incident Volume"
   ]
  },
  {
   "cell_type": "code",
   "execution_count": 13,
   "id": "a07d2c7b",
   "metadata": {},
   "outputs": [],
   "source": [
    "# Imporing the necessary columns\n",
    "incfrq = df.loc[:,['ID','opened_time']]"
   ]
  },
  {
   "cell_type": "code",
   "execution_count": 14,
   "id": "9b2dfc31",
   "metadata": {},
   "outputs": [
    {
     "data": {
      "text/html": [
       "<div>\n",
       "<style scoped>\n",
       "    .dataframe tbody tr th:only-of-type {\n",
       "        vertical-align: middle;\n",
       "    }\n",
       "\n",
       "    .dataframe tbody tr th {\n",
       "        vertical-align: top;\n",
       "    }\n",
       "\n",
       "    .dataframe thead th {\n",
       "        text-align: right;\n",
       "    }\n",
       "</style>\n",
       "<table border=\"1\" class=\"dataframe\">\n",
       "  <thead>\n",
       "    <tr style=\"text-align: right;\">\n",
       "      <th></th>\n",
       "      <th>ID</th>\n",
       "      <th>opened_time</th>\n",
       "    </tr>\n",
       "  </thead>\n",
       "  <tbody>\n",
       "    <tr>\n",
       "      <th>0</th>\n",
       "      <td>INC0000045</td>\n",
       "      <td>29-02-2016 01:16</td>\n",
       "    </tr>\n",
       "    <tr>\n",
       "      <th>1</th>\n",
       "      <td>INC0000047</td>\n",
       "      <td>29-02-2016 04:40</td>\n",
       "    </tr>\n",
       "    <tr>\n",
       "      <th>2</th>\n",
       "      <td>INC0000047</td>\n",
       "      <td>29-02-2016 04:40</td>\n",
       "    </tr>\n",
       "    <tr>\n",
       "      <th>3</th>\n",
       "      <td>INC0000047</td>\n",
       "      <td>29-02-2016 04:40</td>\n",
       "    </tr>\n",
       "    <tr>\n",
       "      <th>4</th>\n",
       "      <td>INC0000057</td>\n",
       "      <td>29-02-2016 06:10</td>\n",
       "    </tr>\n",
       "  </tbody>\n",
       "</table>\n",
       "</div>"
      ],
      "text/plain": [
       "           ID       opened_time\n",
       "0  INC0000045  29-02-2016 01:16\n",
       "1  INC0000047  29-02-2016 04:40\n",
       "2  INC0000047  29-02-2016 04:40\n",
       "3  INC0000047  29-02-2016 04:40\n",
       "4  INC0000057  29-02-2016 06:10"
      ]
     },
     "execution_count": 14,
     "metadata": {},
     "output_type": "execute_result"
    }
   ],
   "source": [
    "incfrq.head()"
   ]
  },
  {
   "cell_type": "code",
   "execution_count": 15,
   "id": "ffad5542",
   "metadata": {},
   "outputs": [],
   "source": [
    "# Adding a new column which will have the number of tickets per day\n",
    "incfrq['No_Incidents'] = incfrq.groupby('opened_time')['ID'].transform('count')"
   ]
  },
  {
   "cell_type": "code",
   "execution_count": 16,
   "id": "b99fd0e5",
   "metadata": {},
   "outputs": [
    {
     "data": {
      "text/html": [
       "<div>\n",
       "<style scoped>\n",
       "    .dataframe tbody tr th:only-of-type {\n",
       "        vertical-align: middle;\n",
       "    }\n",
       "\n",
       "    .dataframe tbody tr th {\n",
       "        vertical-align: top;\n",
       "    }\n",
       "\n",
       "    .dataframe thead th {\n",
       "        text-align: right;\n",
       "    }\n",
       "</style>\n",
       "<table border=\"1\" class=\"dataframe\">\n",
       "  <thead>\n",
       "    <tr style=\"text-align: right;\">\n",
       "      <th></th>\n",
       "      <th>ID</th>\n",
       "      <th>opened_time</th>\n",
       "      <th>No_Incidents</th>\n",
       "    </tr>\n",
       "  </thead>\n",
       "  <tbody>\n",
       "    <tr>\n",
       "      <th>0</th>\n",
       "      <td>INC0000045</td>\n",
       "      <td>29-02-2016 01:16</td>\n",
       "      <td>1</td>\n",
       "    </tr>\n",
       "    <tr>\n",
       "      <th>1</th>\n",
       "      <td>INC0000047</td>\n",
       "      <td>29-02-2016 04:40</td>\n",
       "      <td>3</td>\n",
       "    </tr>\n",
       "    <tr>\n",
       "      <th>2</th>\n",
       "      <td>INC0000047</td>\n",
       "      <td>29-02-2016 04:40</td>\n",
       "      <td>3</td>\n",
       "    </tr>\n",
       "    <tr>\n",
       "      <th>3</th>\n",
       "      <td>INC0000047</td>\n",
       "      <td>29-02-2016 04:40</td>\n",
       "      <td>3</td>\n",
       "    </tr>\n",
       "    <tr>\n",
       "      <th>4</th>\n",
       "      <td>INC0000057</td>\n",
       "      <td>29-02-2016 06:10</td>\n",
       "      <td>1</td>\n",
       "    </tr>\n",
       "  </tbody>\n",
       "</table>\n",
       "</div>"
      ],
      "text/plain": [
       "           ID       opened_time  No_Incidents\n",
       "0  INC0000045  29-02-2016 01:16             1\n",
       "1  INC0000047  29-02-2016 04:40             3\n",
       "2  INC0000047  29-02-2016 04:40             3\n",
       "3  INC0000047  29-02-2016 04:40             3\n",
       "4  INC0000057  29-02-2016 06:10             1"
      ]
     },
     "execution_count": 16,
     "metadata": {},
     "output_type": "execute_result"
    }
   ],
   "source": [
    "incfrq.head()"
   ]
  },
  {
   "cell_type": "code",
   "execution_count": 17,
   "id": "bbfc3bbe",
   "metadata": {},
   "outputs": [],
   "source": [
    "incfrq.drop(['ID'],axis=1,inplace=True)\n",
    "incfrq.drop_duplicates(inplace=True)"
   ]
  },
  {
   "cell_type": "code",
   "execution_count": 18,
   "id": "273e39d7",
   "metadata": {},
   "outputs": [
    {
     "data": {
      "text/html": [
       "<div>\n",
       "<style scoped>\n",
       "    .dataframe tbody tr th:only-of-type {\n",
       "        vertical-align: middle;\n",
       "    }\n",
       "\n",
       "    .dataframe tbody tr th {\n",
       "        vertical-align: top;\n",
       "    }\n",
       "\n",
       "    .dataframe thead th {\n",
       "        text-align: right;\n",
       "    }\n",
       "</style>\n",
       "<table border=\"1\" class=\"dataframe\">\n",
       "  <thead>\n",
       "    <tr style=\"text-align: right;\">\n",
       "      <th></th>\n",
       "      <th>opened_time</th>\n",
       "      <th>No_Incidents</th>\n",
       "    </tr>\n",
       "  </thead>\n",
       "  <tbody>\n",
       "    <tr>\n",
       "      <th>0</th>\n",
       "      <td>29-02-2016 01:16</td>\n",
       "      <td>1</td>\n",
       "    </tr>\n",
       "    <tr>\n",
       "      <th>1</th>\n",
       "      <td>29-02-2016 04:40</td>\n",
       "      <td>3</td>\n",
       "    </tr>\n",
       "    <tr>\n",
       "      <th>4</th>\n",
       "      <td>29-02-2016 06:10</td>\n",
       "      <td>1</td>\n",
       "    </tr>\n",
       "    <tr>\n",
       "      <th>5</th>\n",
       "      <td>29-02-2016 06:58</td>\n",
       "      <td>2</td>\n",
       "    </tr>\n",
       "    <tr>\n",
       "      <th>7</th>\n",
       "      <td>29-02-2016 07:08</td>\n",
       "      <td>2</td>\n",
       "    </tr>\n",
       "  </tbody>\n",
       "</table>\n",
       "</div>"
      ],
      "text/plain": [
       "        opened_time  No_Incidents\n",
       "0  29-02-2016 01:16             1\n",
       "1  29-02-2016 04:40             3\n",
       "4  29-02-2016 06:10             1\n",
       "5  29-02-2016 06:58             2\n",
       "7  29-02-2016 07:08             2"
      ]
     },
     "execution_count": 18,
     "metadata": {},
     "output_type": "execute_result"
    }
   ],
   "source": [
    "incfrq.head()"
   ]
  },
  {
   "cell_type": "code",
   "execution_count": 19,
   "id": "2fc74381",
   "metadata": {},
   "outputs": [
    {
     "data": {
      "text/plain": [
       "DatetimeIndex(['2016-02-29 01:16:00', '2016-02-29 04:40:00',\n",
       "               '2016-02-29 06:10:00', '2016-02-29 06:58:00',\n",
       "               '2016-02-29 07:08:00', '2016-02-29 07:10:00',\n",
       "               '2016-02-29 07:38:00', '2016-02-29 08:03:00',\n",
       "               '2016-02-29 08:11:00', '2016-02-29 08:12:00',\n",
       "               ...\n",
       "               '2017-10-02 14:11:00', '2017-10-02 14:48:00',\n",
       "               '2017-10-02 15:55:00', '2017-02-13 08:56:00',\n",
       "               '2017-02-13 10:33:00', '2017-02-13 11:31:00',\n",
       "               '2017-02-14 11:11:00', '2017-02-15 01:52:00',\n",
       "               '2017-02-15 07:09:00', '2017-02-16 14:17:00'],\n",
       "              dtype='datetime64[ns]', name='opened_time', length=16438, freq=None)"
      ]
     },
     "execution_count": 19,
     "metadata": {},
     "output_type": "execute_result"
    }
   ],
   "source": [
    "# Setting Date as the Index\n",
    "incfrq = incfrq.set_index('opened_time')\n",
    "incfrq.index = pd.to_datetime(incfrq.index)\n",
    "incfrq.index"
   ]
  },
  {
   "cell_type": "code",
   "execution_count": 20,
   "id": "cdc43b82",
   "metadata": {},
   "outputs": [
    {
     "name": "stdout",
     "output_type": "stream",
     "text": [
      "2016-01-03 01:22:00 to 2017-12-01 12:41:00\n"
     ]
    }
   ],
   "source": [
    "# Checking range of dates for our values\n",
    "print(incfrq.index.min(),'to',incfrq.index.max())"
   ]
  },
  {
   "cell_type": "code",
   "execution_count": 21,
   "id": "d05e90f7",
   "metadata": {},
   "outputs": [
    {
     "data": {
      "image/png": "[encoded data removed]",
      "text/plain": [
       "<Figure size 720x216 with 1 Axes>"
      ]
     },
     "metadata": {
      "needs_background": "light"
     },
     "output_type": "display_data"
    }
   ],
   "source": [
    "# Plotting number of tickets per day\n",
    "incfrq.plot(figsize=(10,3))\n",
    "plt.show()"
   ]
  },
  {
   "cell_type": "code",
   "execution_count": 22,
   "id": "5450a537",
   "metadata": {},
   "outputs": [],
   "source": [
    "# Making a list of values for p,d & q\n",
    "import itertools\n",
    "p = d = q = range(0,2)\n",
    "pdq = list(itertools.product(p,d,q))"
   ]
  },
  {
   "cell_type": "code",
   "execution_count": 28,
   "id": "5c02e63a",
   "metadata": {},
   "outputs": [
    {
     "name": "stdout",
     "output_type": "stream",
     "text": [
      "ARIMA(0, 0, 0) - AIC:85078.81273258357\n",
      "ARIMA(0, 0, 1) - AIC:80015.53571814793\n",
      "ARIMA(0, 1, 0) - AIC:78525.14634030542\n",
      "ARIMA(0, 1, 1) - AIC:67550.30004611769\n",
      "ARIMA(1, 0, 0) - AIC:75511.51881668699\n",
      "ARIMA(1, 0, 1) - AIC:67556.19976796478\n",
      "ARIMA(1, 1, 0) - AIC:73927.29406811009\n",
      "ARIMA(1, 1, 1) - AIC:67548.63704242159\n"
     ]
    }
   ],
   "source": [
    "# Checking the AIC values per pairs\n",
    "import statsmodels.api as sm\n",
    "for param in pdq:\n",
    "    mod = sm.tsa.statespace.SARIMAX(incfrq,order=param,enforce_stationarity=False,enforce_invertibility=False)\n",
    "    results = mod.fit()\n",
    "    print('ARIMA{} - AIC:{}'.format(param, results.aic))"
   ]
  },
  {
   "cell_type": "code",
   "execution_count": 29,
   "id": "f17c152f",
   "metadata": {},
   "outputs": [
    {
     "name": "stdout",
     "output_type": "stream",
     "text": [
      "==============================================================================\n",
      "                 coef    std err          z      P>|z|      [0.025      0.975]\n",
      "------------------------------------------------------------------------------\n",
      "ar.L1          0.0157      0.007      2.141      0.032       0.001       0.030\n",
      "ma.L1         -0.9904      0.001   -963.689      0.000      -0.992      -0.988\n",
      "sigma2         3.5664      0.020    182.196      0.000       3.528       3.605\n",
      "==============================================================================\n"
     ]
    }
   ],
   "source": [
    "# Choosing the model with minimum AIC and the ARIMA Model for Time Series Forecasting\n",
    "mod = sm.tsa.statespace.SARIMAX(incfrq,order=(1,1,1))\n",
    "results = mod.fit()\n",
    "print(results.summary().tables[1])"
   ]
  },
  {
   "cell_type": "code",
   "execution_count": 25,
   "id": "e3b94583",
   "metadata": {},
   "outputs": [
    {
     "data": {
      "text/plain": [
       "opened_time\n",
       "2016-01-03 01:22:00    3.0\n",
       "2016-01-03 01:31:00    3.0\n",
       "2016-01-03 01:36:00    3.0\n",
       "2016-01-03 01:49:00    3.0\n",
       "2016-01-03 02:56:00    3.0\n",
       "                      ... \n",
       "2017-11-01 11:42:00    2.0\n",
       "2017-11-01 11:43:00    2.0\n",
       "2017-11-01 15:15:00    2.0\n",
       "2017-11-01 17:01:00    2.0\n",
       "2017-12-01 12:41:00    2.0\n",
       "Name: predicted_mean, Length: 16208, dtype: float64"
      ]
     },
     "execution_count": 25,
     "metadata": {},
     "output_type": "execute_result"
    }
   ],
   "source": [
    "# Predicting the future values and the confidence interval\n",
    "pred = results.get_prediction(start=pd.to_datetime('2016-01-03 01:22:00'),end=pd.to_datetime('2017-12-01 12:41:00'),dynamic=False)\n",
    "pred_ci = pred.conf_int()\n",
    "pred.predicted_mean.round()"
   ]
  },
  {
   "cell_type": "code",
   "execution_count": 26,
   "id": "bef81580",
   "metadata": {},
   "outputs": [
    {
     "data": {
      "image/png": "[encoded data removed]",
      "text/plain": [
       "<Figure size 1080x432 with 1 Axes>"
      ]
     },
     "metadata": {
      "needs_background": "light"
     },
     "output_type": "display_data"
    }
   ],
   "source": [
    "# Visualization\n",
    "ax = incfrq['2016':].plot(label='observed')\n",
    "pred.predicted_mean.plot(ax=ax,label='One-step ahead Forecast',figsize=(15, 6))\n",
    "ax.fill_between(pred_ci.index,pred_ci.iloc[:,0],pred_ci.iloc[:,1],color='grey',alpha=0.3)\n",
    "ax.set_xlabel('Date')\n",
    "ax.set_ylabel('No of Incidents')\n",
    "plt.legend()\n",
    "plt.show()"
   ]
  },
  {
   "cell_type": "code",
   "execution_count": null,
   "id": "114f5416",
   "metadata": {},
   "outputs": [],
   "source": []
  }
 ],
 "metadata": {
  "kernelspec": {
   "display_name": "Python 3 (ipykernel)",
   "language": "python",
   "name": "python3"
  },
  "language_info": {
   "codemirror_mode": {
    "name": "ipython",
    "version": 3
   },
   "file_extension": ".py",
   "mimetype": "text/x-python",
   "name": "python",
   "nbconvert_exporter": "python",
   "pygments_lexer": "ipython3",
   "version": "3.10.4"
  }
 },
 "nbformat": 4,
 "nbformat_minor": 5
}
